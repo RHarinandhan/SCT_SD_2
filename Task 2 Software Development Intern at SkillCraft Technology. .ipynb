{
 "cells": [
  {
   "cell_type": "code",
   "execution_count": 1,
   "id": "24b9a6b0",
   "metadata": {},
   "outputs": [],
   "source": [
    "# Software Development Intern at SkillCraft Technology. \n",
    "# Task 2 : Build a program that generates a random number and challenges the user to guess it.\n",
    "# The program should prompt the user to input their guess, compare it to the generated number.\n",
    "# Submited by Harinandhan\n",
    "# ID: SCT/JUN24/0751 "
   ]
  },
  {
   "cell_type": "code",
   "execution_count": 3,
   "id": "173287b6",
   "metadata": {},
   "outputs": [],
   "source": [
    "# Explaination \n",
    "# Random number guessing in Python. \n",
    "# The program will randomly select a number between 1 and 100, and the user will try to guess the number.\n",
    "# The program will give hints if the guess is too high or too low, and it will count the number of attempts the user makes."
   ]
  },
  {
   "cell_type": "code",
   "execution_count": 4,
   "id": "8e9768cc",
   "metadata": {},
   "outputs": [],
   "source": [
    "# In a number guessing game, the user guesses a randomly generated secret number within a given number of attempts.\n",
    "# After each guess, the user gets hints on whether their guess is too high, too low, or correct.\n",
    "# So the game ends when the user guesses the secret number or runs out of attempts."
   ]
  },
  {
   "cell_type": "code",
   "execution_count": 5,
   "id": "09013114",
   "metadata": {
    "scrolled": false
   },
   "outputs": [
    {
     "name": "stdout",
     "output_type": "stream",
     "text": [
      "Welcome to the Number Guessing Game!\n",
      "I have selected a number between 1 and 100. Can you guess what it is?\n",
      "Enter your guess: 50\n",
      "Too low! Try again.\n",
      "Enter your guess: 75\n",
      "Too low! Try again.\n",
      "Enter your guess: 60\n",
      "Too low! Try again.\n",
      "Enter your guess: 70\n",
      "Too low! Try again.\n",
      "Enter your guess: 65\n",
      "Too low! Try again.\n",
      "Enter your guess: 63\n",
      "Too low! Try again.\n",
      "Enter your guess: 90\n",
      "Too low! Try again.\n",
      "Enter your guess: 100\n",
      "Too high! Try again.\n",
      "Enter your guess: 95\n",
      "Too low! Try again.\n",
      "Enter your guess: 98\n",
      "Congratulations! You guessed the number in 10 attempts.\n"
     ]
    }
   ],
   "source": [
    "import random  # Lets execute this program \n",
    "\n",
    "def guessing_game():\n",
    "    number_to_guess = random.randint(1, 100)\n",
    "    number_of_attempts = 0\n",
    "    guessed = False\n",
    "    \n",
    "    print(\"Welcome to the Number Guessing Game!\")\n",
    "    print(\"I have selected a number between 1 and 100. Can you guess what it is?\")\n",
    "    \n",
    "    while not guessed:\n",
    "        try:\n",
    "            guess = int(input(\"Enter your guess: \"))\n",
    "            number_of_attempts += 1\n",
    "            \n",
    "            if guess < number_to_guess:\n",
    "                print(\"Too low! Try again.\")\n",
    "            elif guess > number_to_guess:\n",
    "                print(\"Too high! Try again.\")\n",
    "            else:\n",
    "                print(f\"Congratulations! You guessed the number in {number_of_attempts} attempts.\")\n",
    "                guessed = True\n",
    "        except ValueError:\n",
    "            print(\"Please enter a valid number.\")\n",
    "    \n",
    "if __name__ == \"__main__\":\n",
    "    guessing_game()\n"
   ]
  },
  {
   "cell_type": "code",
   "execution_count": null,
   "id": "d9afb9a0",
   "metadata": {},
   "outputs": [],
   "source": [
    "# All this is about the a random number gussing . Submitted by Harinandhan "
   ]
  }
 ],
 "metadata": {
  "kernelspec": {
   "display_name": "Python 3 (ipykernel)",
   "language": "python",
   "name": "python3"
  },
  "language_info": {
   "codemirror_mode": {
    "name": "ipython",
    "version": 3
   },
   "file_extension": ".py",
   "mimetype": "text/x-python",
   "name": "python",
   "nbconvert_exporter": "python",
   "pygments_lexer": "ipython3",
   "version": "3.11.5"
  }
 },
 "nbformat": 4,
 "nbformat_minor": 5
}
